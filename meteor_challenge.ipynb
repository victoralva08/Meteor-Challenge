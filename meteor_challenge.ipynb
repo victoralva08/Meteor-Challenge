{
 "cells": [
  {
   "cell_type": "code",
   "execution_count": 112,
   "metadata": {},
   "outputs": [],
   "source": [
    "import numpy as np\n",
    "import cv2 as cv"
   ]
  },
  {
   "cell_type": "markdown",
   "metadata": {},
   "source": [
    "### Step 1: Read the image as a Numpy Array"
   ]
  },
  {
   "cell_type": "code",
   "execution_count": 113,
   "metadata": {},
   "outputs": [],
   "source": [
    "image_path = 'meteor_challenge_01.png'\n",
    "img = cv.imread(image_path)"
   ]
  },
  {
   "cell_type": "markdown",
   "metadata": {},
   "source": [
    "### Step 2: Create masks and isolate white and red colors (BGR)"
   ]
  },
  {
   "cell_type": "code",
   "execution_count": 114,
   "metadata": {},
   "outputs": [],
   "source": [
    "white = np.array([255, 255, 255])\n",
    "red = np.array([0, 0, 255])"
   ]
  },
  {
   "cell_type": "code",
   "execution_count": 115,
   "metadata": {},
   "outputs": [],
   "source": [
    "mask_star = cv.inRange(img, white, white)\n",
    "mask_meteor = cv.inRange(img, red, red)"
   ]
  },
  {
   "cell_type": "markdown",
   "metadata": {},
   "source": [
    "### Step 3: Using the masks, count how many stars and meteors pixels the image has"
   ]
  },
  {
   "cell_type": "code",
   "execution_count": 116,
   "metadata": {},
   "outputs": [],
   "source": [
    "star_counter  = cv.countNonZero(mask_star)\n",
    "meteor_counter = cv.countNonZero(mask_meteor)"
   ]
  },
  {
   "cell_type": "code",
   "execution_count": 117,
   "metadata": {},
   "outputs": [
    {
     "name": "stdout",
     "output_type": "stream",
     "text": [
      "Number of stars: 315\n",
      "Number of meteors: 328\n"
     ]
    }
   ],
   "source": [
    "print(f\"Number of stars: {star_counter}\")\n",
    "print(f\"Number of meteors: {meteor_counter}\")"
   ]
  },
  {
   "cell_type": "markdown",
   "metadata": {},
   "source": [
    "### Step 4: Create a blue mask for the water"
   ]
  },
  {
   "cell_type": "code",
   "execution_count": 118,
   "metadata": {},
   "outputs": [],
   "source": [
    "blue = np.array([255, 0, 0])\n",
    "mask_water = cv.inRange(img, blue, blue)\n",
    "water = cv.countNonZero(mask_water)"
   ]
  },
  {
   "cell_type": "markdown",
   "metadata": {},
   "source": [
    "### Step 5: Iterate through each column of the image and verify if water mask and meteor mask are present"
   ]
  },
  {
   "cell_type": "code",
   "execution_count": 119,
   "metadata": {},
   "outputs": [
    {
     "name": "stdout",
     "output_type": "stream",
     "text": [
      "Meteors falling on water: 105\n"
     ]
    }
   ],
   "source": [
    "meteors_on_water_counter = 0\n",
    "img_width = img.shape[1]\n",
    "\n",
    "for pixel_column in range(img_width):\n",
    "    if np.any(mask_water[:, pixel_column]):\n",
    "        meteors_on_water_counter += cv.countNonZero(mask_meteor[:, pixel_column])\n",
    "\n",
    "print(f\"Meteors falling on water: {meteors_on_water_counter}\")"
   ]
  },
  {
   "cell_type": "markdown",
   "metadata": {},
   "source": [
    "### Step 6: Trying to identify the message written in the sky"
   ]
  },
  {
   "cell_type": "markdown",
   "metadata": {},
   "source": [
    "First attempt: create lines connecting dots of the same color"
   ]
  },
  {
   "cell_type": "code",
   "execution_count": 120,
   "metadata": {},
   "outputs": [],
   "source": [
    "# contours, _ = cv.findContours(mask_meteor, cv.RETR_TREE, cv.CHAIN_APPROX_NONE)\n",
    "# for contour in contours:\n",
    "#     cv.polylines(img, [contour], isClosed=False, color=(0, 0, 255), thickness=2)\n",
    "# for contour in contours:\n",
    "#     cv.polylines(img, [contour], isClosed=False, color=(255, 255, 255), thickness=2)\n",
    "# cv.imshow(\"Image\", img)\n",
    "# cv.waitKey(0)\n",
    "# cv.destroyAllWindows()\n",
    "\n",
    "# No success\n"
   ]
  },
  {
   "cell_type": "markdown",
   "metadata": {},
   "source": [
    "Second attempt: following hint 2, I'll check each column count of stars and meteors. Morse code? Treating stars as '-' and meteors as '.'"
   ]
  },
  {
   "cell_type": "code",
   "execution_count": 121,
   "metadata": {},
   "outputs": [
    {
     "name": "stdout",
     "output_type": "stream",
     "text": [
      " -.--  .-  .---.--.- .-.-. . - -.-- ..-. .-.-. -..  .- ---  ..- ...  .-. .-... .-.-.-.--- -.-- --- ..-    . .-.- --.- .-.--..-..- .-.-. .-.- .-.-.-.    .-      .-.--.-  - .-.- .-.-.-.- .-.-.- .-..-  .-      .-.- . -- .-.-    .- .-.-.--.-  ..-  .   -.-- -   .-.-..  .- .-.- .-..-.- .-.-. .- .-  .-      .-.- .  - .-.- .---. .-.-. .-    .- ...  -.- - -- .-- .- .- .-.-. .- - -.-- ... ..-.  .. -.- -- - .-.- ---.- .-.-- -.-  .-.- .-...- .-.-.-.--. .-.-. .---  .-      .-.- .--  .-.- .-.-.-.- .-.-.- ..-. -.-- --- .-.- .  - .-.--  -. .-.-. -.  ..-  .-   .-      ..-..  . ..- .-.-..- ..-. . . -.-  -  .-.- --.-.- .-.-   -.- .-.- .-..-- -.---  - ..-  ... .-.  .-. .-.-. . - -.- --   .-.- . -  .-.- .---.- .-.-. . -  .- ---- .-.-  -.- .-.--.-..- .-.- -.-   -.-- --  .-.- .-..- .-.-- .-.- .-.-- .- . .-.-. - - -.--  -  ..- .. . .-.-...-.- .-.-.- .-.  .-.- .  .- .-.- .-.-.  .-.- -.-.. -.- ---- .-.- -.-.-  .-.- ..-..-\n"
     ]
    }
   ],
   "source": [
    "sentence = []\n",
    "\n",
    "for pixel_column in range(img_width):\n",
    "    character = \"\"\n",
    "\n",
    "    if np.any(mask_star[:, pixel_column]):\n",
    "        character += \".\"\n",
    "    if np.any(mask_meteor[:, pixel_column]):\n",
    "        character += \"-\"\n",
    "    \n",
    "    # if theres no dot or dash in the column, add space\n",
    "    if not character:\n",
    "        character = \" \"\n",
    "    \n",
    "    sentence.append(character)\n",
    "\n",
    "hidden_message = \"\".join(sentence)\n",
    "print(hidden_message)"
   ]
  },
  {
   "cell_type": "code",
   "execution_count": 122,
   "metadata": {},
   "outputs": [
    {
     "name": "stdout",
     "output_type": "stream",
     "text": [
      "Decoded Message:  Y A   ETYF D AO US R  YOU   E Q       A       T  .  A      EM    A  U E  YT    A   AA A      E T   A   AS KTMWAA ATYSF IKMT   K     J A      W   .FYO E T  N N U A  A       EU FEEK T      K    TU SR R ETKM   ET    ET A   K  K  YM      AE TTY T UIE .R  E A     K      \n"
     ]
    }
   ],
   "source": [
    "MORSE_CODE_DICT = { 'A':'.-', 'B':'-...',\n",
    "                    'C':'-.-.', 'D':'-..', 'E':'.',\n",
    "                    'F':'..-.', 'G':'--.', 'H':'....',\n",
    "                    'I':'..', 'J':'.---', 'K':'-.-',\n",
    "                    'L':'.-..', 'M':'--', 'N':'-.',\n",
    "                    'O':'---', 'P':'.--.', 'Q':'--.-',\n",
    "                    'R':'.-.', 'S':'...', 'T':'-',\n",
    "                    'U':'..-', 'V':'...-', 'W':'.--',\n",
    "                    'X':'-..-', 'Y':'-.--', 'Z':'--..',\n",
    "                    '1':'.----', '2':'..---', '3':'...--',\n",
    "                    '4':'....-', '5':'.....', '6':'-....',\n",
    "                    '7':'--...', '8':'---..', '9':'----.',\n",
    "                    '0':'-----', ', ':'--..--', '.':'.-.-.-',\n",
    "                    '?':'..--..', '/':'-..-.', '-':'-....-',\n",
    "                    '(':'-.--.', ')':'-.--.-'}\n",
    "\n",
    "# inverting key with values for comparisson\n",
    "MORSE_CODE_DICT = {value: key for key, value in MORSE_CODE_DICT.items()}\n",
    "\n",
    "# split morse symbols\n",
    "morse_symbols = hidden_message.split(\" \")\n",
    "\n",
    "decoded_message = \"\"\n",
    "for symbol in morse_symbols:\n",
    "    if symbol in MORSE_CODE_DICT:\n",
    "        decoded_message += MORSE_CODE_DICT[symbol]\n",
    "    else:\n",
    "        decoded_message += \" \"  # add a space for unknown symbols or gaps\n",
    "\n",
    "print(\"Decoded Message:\", decoded_message)"
   ]
  },
  {
   "cell_type": "markdown",
   "metadata": {},
   "source": [
    "Trying stars as dashes and meteors as dots"
   ]
  },
  {
   "cell_type": "code",
   "execution_count": 123,
   "metadata": {},
   "outputs": [
    {
     "name": "stdout",
     "output_type": "stream",
     "text": [
      " .-..  -.  -...-..-. -.-.- - . .-.. --.- -.-.- .--  -. ...  --. ---  -.- -.--- -.-.-.-... .-.. ... --.    - -.-. ..-. -.-..--.--. -.-.- -.-. -.-.-.-    -.      -.-..-.  . -.-. -.-.-.-. -.-.-. -.--.  -.      -.-. - .. -.-.    -. -.-.-..-.  --.  -   .-.. .   -.-.--  -. -.-. -.--.-. -.-.- -. -.  -.      -.-. -  . -.-. -...- -.-.- -.    -. ---  .-. . .. -.. -. -. -.-.- -. . .-.. --- --.-  -- .-. .. . -.-. ...-. -.-.. .-.  -.-. -.---. -.-.-.-..- -.-.- -...  -.      -.-. -..  -.-. -.-.-.-. -.-.-. --.- .-.. ... -.-. -  . -.-..  .- -.-.- .-  --.  -.   -.      --.--  - --. -.-.--. --.- - - .-.  .  -.-. ..-.-. -.-.   .-. -.-. -.--.. .-...  . --.  --- -.-  -.- -.-.- - . .-. ..   -.-. - .  -.-. -...-. -.-.- - .  -. .... -.-.  .-. -.-..-.--. -.-. .-.   .-.. ..  -.-. -.--. -.-.. -.-. -.-.. -. - -.-.- . . .-..  .  --. -- - -.-.---.-. -.-.-. -.-  -.-. -  -. -.-. -.-.-  -.-. .-.-- .-. .... -.-. .-.-.  -.-. --.--.\n"
     ]
    }
   ],
   "source": [
    "sentence = []\n",
    "\n",
    "for pixel_column in range(img_width):\n",
    "    character = \"\"\n",
    "\n",
    "    if np.any(mask_star[:, pixel_column]):\n",
    "        character += \"-\"\n",
    "    if np.any(mask_meteor[:, pixel_column]):\n",
    "        character += \".\"\n",
    "    if not character:\n",
    "        character = \" \"\n",
    "    \n",
    "    sentence.append(character)\n",
    "\n",
    "hidden_message = \"\".join(sentence)\n",
    "print(hidden_message)"
   ]
  },
  {
   "cell_type": "code",
   "execution_count": 124,
   "metadata": {},
   "outputs": [
    {
     "name": "stdout",
     "output_type": "stream",
     "text": [
      "Decoded Message:  L N   TELQ W NS GO K  LSG   TCF  C    N       EC  ( N     CTIC   N  G T  LE    NC  NN N     CT EC  N   NO REIDNN NELOQ MRIEC  R C   B N     CD C  QLSCT E  A A G N  N       TG QTTR E C C  RC   EG OK K TERI  CTE C  TE NHC R CR  LI C( C NT EEL E GMT  K CT NC  C RHC  C \n"
     ]
    }
   ],
   "source": [
    "morse_symbols = hidden_message.split(\" \")\n",
    "\n",
    "# Decode each symbol into a letter\n",
    "decoded_message = \"\"\n",
    "for symbol in morse_symbols:\n",
    "    if symbol in MORSE_CODE_DICT:\n",
    "        decoded_message += MORSE_CODE_DICT[symbol]\n",
    "    else:\n",
    "        decoded_message += \" \"  # Add a space for unknown symbols or gaps\n",
    "\n",
    "print(\"Decoded Message:\", decoded_message)"
   ]
  },
  {
   "cell_type": "markdown",
   "metadata": {},
   "source": [
    "Since I've got no result from iterating through the columns, I'll try the rows:"
   ]
  },
  {
   "cell_type": "code",
   "execution_count": 125,
   "metadata": {},
   "outputs": [
    {
     "name": "stdout",
     "output_type": "stream",
     "text": [
      "----.----...-.--.---..-..----....--.-.---.- -..------..-.--...-.-.-----..--.---.....---..-....--.-..-.---.-.-.--.---..-..-...--.--..-.-..-...-.-..---..-...----.-...- .----- ..-.--...-. --.-- -.---- --.-- ------ -.-- --  -.--- --    - ---   -  ---   - -- --- -- - - -  -  - -  --   -   --  ----- -  - - ---- -  --- -  ---  -  -  - --- - --   ----- --  -- - --------   -- - -------     ----- -  - -- -                                                                                                                                                                                                                                                                                                                 \n"
     ]
    }
   ],
   "source": [
    "img_height = img.shape[0]\n",
    "sentence = []\n",
    "\n",
    "for pixel_row in range(img_height):\n",
    "    character = \"\"\n",
    "\n",
    "    if np.any(mask_star[pixel_row, :]):  \n",
    "        character += \"-\"\n",
    "    if np.any(mask_meteor[pixel_row, :]):\n",
    "        character += \".\"\n",
    "    if not character:\n",
    "        character = \" \"\n",
    "    \n",
    "    sentence.append(character)\n",
    "\n",
    "hidden_message = \"\".join(sentence)\n",
    "print(hidden_message)\n"
   ]
  },
  {
   "cell_type": "code",
   "execution_count": 126,
   "metadata": {},
   "outputs": [
    {
     "name": "stdout",
     "output_type": "stream",
     "text": [
      "Decoded Message:         YM  M   TO  T O  TMOMTTT T TT M  T  M 0T TT T OT O T T TOTM  0M MT   MT     0T TMT                                                                                                                                                                                                                                                                                                                 \n"
     ]
    }
   ],
   "source": [
    "morse_symbols = hidden_message.split(\" \")\n",
    "\n",
    "# Decode each symbol into a letter\n",
    "decoded_message = \"\"\n",
    "for symbol in morse_symbols:\n",
    "    if symbol in MORSE_CODE_DICT:\n",
    "        decoded_message += MORSE_CODE_DICT[symbol]\n",
    "    else:\n",
    "        decoded_message += \" \"  # add a space for unknown symbols or gaps\n",
    "\n",
    "print(\"Decoded Message:\", decoded_message)"
   ]
  }
 ],
 "metadata": {
  "kernelspec": {
   "display_name": "base",
   "language": "python",
   "name": "python3"
  },
  "language_info": {
   "codemirror_mode": {
    "name": "ipython",
    "version": 3
   },
   "file_extension": ".py",
   "mimetype": "text/x-python",
   "name": "python",
   "nbconvert_exporter": "python",
   "pygments_lexer": "ipython3",
   "version": "3.12.2"
  }
 },
 "nbformat": 4,
 "nbformat_minor": 2
}
